{
 "cells": [
  {
   "cell_type": "code",
   "execution_count": null,
   "id": "5e66daa9-2565-4c03-9e77-ef768987bced",
   "metadata": {},
   "outputs": [],
   "source": [
    "import os\n",
    "import sys\n",
    "sys.path.append('./unet_code/')\n",
    "\n",
    "import numpy as np\n",
    "import yaml\n",
    "\n",
    "import torch\n",
    "from torch.utils.data import DataLoader\n",
    "\n",
    "from unet import build_model"
   ]
  },
  {
   "cell_type": "code",
   "execution_count": null,
   "id": "90efcce9-64c4-44c6-8e06-0ed2a2712695",
   "metadata": {},
   "outputs": [],
   "source": [
    "# Set source experiment directory\n",
    "experiment_dir = 'SNMMI--bare-multi-mod-bkg-prostate-bladder-all-folds/0/'\n",
    "\n",
    "# Load config from experiment output\n",
    "cfg_path = 'config.yaml'\n",
    "with open(os.path.join(experiment_dir, cfg_path), 'r') as f:\n",
    "    cfg = yaml.safe_load(f)\n",
    "\n",
    "print('The output channels correspond to the following ordered classes:', cfg['DATASET']['CLASS_LABELS'])"
   ]
  },
  {
   "cell_type": "code",
   "execution_count": null,
   "id": "d5c81f1b-99d4-4b82-bd7f-dca87a7a2b28",
   "metadata": {},
   "outputs": [],
   "source": [
    "device = 'cuda' if torch.cuda.is_available() else 'cpu'\n",
    "\n",
    "model = build_model(cfg, device)\n",
    "pretrained_file = os.path.join(experiment_dir, 'model_best.pth')\n",
    "model.load_state_dict(torch.load(pretrained_file, map_location=torch.device(device))['model'])\n",
    "model.eval()"
   ]
  },
  {
   "cell_type": "code",
   "execution_count": null,
   "id": "52f74ee9-85fc-4c76-9d8b-23f4f2033a80",
   "metadata": {},
   "outputs": [],
   "source": [
    "# Path to directory containing DICOM scans, structured as required (see dataset docs)\n",
    "dataset_path = ''\n",
    "\n",
    "modalities = cfg['DATASET']['PARAMS']['modality_roi_map'].keys()\n",
    "num_slices = cfg['DATASET']['PARAMS']['num_slices']\n",
    "combined_slice_dims = cfg['DATASET']['PARAMS']['slice_shape']\n",
    "crop_size = cfg['TRANSFORMS']['crop_size'][0]\n",
    "min_max_norm = cfg['TRANSFORMS']['min_max_norm']"
   ]
  },
  {
   "cell_type": "code",
   "execution_count": null,
   "id": "66004d86-efd2-4f02-8ac6-c0368ce5d5d6",
   "metadata": {},
   "outputs": [],
   "source": [
    "for sample_idx, test_sample in enumerate(test_dataloader):\n",
    "    \n",
    "    preds = model(test_sample['image']).detach().cpu().numpy()\n",
    "    \n",
    "    ### Do whatever you'd like with predictions ###\n",
    "    print(preds.shape)"
   ]
  }
 ],
 "metadata": {
  "kernelspec": {
   "display_name": "Python 3 (ipykernel)",
   "language": "python",
   "name": "python3"
  },
  "language_info": {
   "codemirror_mode": {
    "name": "ipython",
    "version": 3
   },
   "file_extension": ".py",
   "mimetype": "text/x-python",
   "name": "python",
   "nbconvert_exporter": "python",
   "pygments_lexer": "ipython3",
   "version": "3.8.10"
  }
 },
 "nbformat": 4,
 "nbformat_minor": 5
}
